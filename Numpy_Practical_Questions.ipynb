{
  "nbformat": 4,
  "nbformat_minor": 0,
  "metadata": {
    "colab": {
      "provenance": [],
      "authorship_tag": "ABX9TyON/gULa46s5Fj3KhaC3oOX",
      "include_colab_link": true
    },
    "kernelspec": {
      "name": "python3",
      "display_name": "Python 3"
    },
    "language_info": {
      "name": "python"
    }
  },
  "cells": [
    {
      "cell_type": "markdown",
      "metadata": {
        "id": "view-in-github",
        "colab_type": "text"
      },
      "source": [
        "<a href=\"https://colab.research.google.com/github/RajaSekhar1311/Data_Analyst_PW_Skills/blob/main/Numpy_Practical_Questions.ipynb\" target=\"_parent\"><img src=\"https://colab.research.google.com/assets/colab-badge.svg\" alt=\"Open In Colab\"/></a>"
      ]
    },
    {
      "cell_type": "markdown",
      "source": [
        "# 1. Create a 3x3 NumPy array with random integers between 1 and 100. Then, interchange its rows and columns."
      ],
      "metadata": {
        "id": "yq2O4R6GWFha"
      }
    },
    {
      "cell_type": "code",
      "execution_count": null,
      "metadata": {
        "id": "TccKZdurV-7m"
      },
      "outputs": [],
      "source": [
        "import numpy as np"
      ]
    },
    {
      "cell_type": "code",
      "source": [
        "arr = np.random.randint(1, 101, (3,3))"
      ],
      "metadata": {
        "id": "9XwCgm8_WO1D"
      },
      "execution_count": null,
      "outputs": []
    },
    {
      "cell_type": "code",
      "source": [
        "arr"
      ],
      "metadata": {
        "colab": {
          "base_uri": "https://localhost:8080/"
        },
        "id": "fWI__aKmWfk9",
        "outputId": "a2d3de0b-cbd6-4b42-aa26-73d4c8f477aa"
      },
      "execution_count": null,
      "outputs": [
        {
          "output_type": "execute_result",
          "data": {
            "text/plain": [
              "array([[11, 24, 20],\n",
              "       [ 6,  2, 56],\n",
              "       [35, 25, 46]])"
            ]
          },
          "metadata": {},
          "execution_count": 4
        }
      ]
    },
    {
      "cell_type": "code",
      "source": [
        "arr.T # interchange its Rows and Columns"
      ],
      "metadata": {
        "colab": {
          "base_uri": "https://localhost:8080/"
        },
        "id": "qyOFub4xW3bp",
        "outputId": "eb4a01fa-d3b9-4607-85a7-0cf6774fa7fe"
      },
      "execution_count": null,
      "outputs": [
        {
          "output_type": "execute_result",
          "data": {
            "text/plain": [
              "array([[11,  6, 35],\n",
              "       [24,  2, 25],\n",
              "       [20, 56, 46]])"
            ]
          },
          "metadata": {},
          "execution_count": 5
        }
      ]
    },
    {
      "cell_type": "markdown",
      "source": [
        "# 2. Generate a 1D NumPy array with 10 elements. Reshape it into a 2x5 array, then into a 5x2 array."
      ],
      "metadata": {
        "id": "IeptINHhXG-x"
      }
    },
    {
      "cell_type": "code",
      "source": [
        "arr = np.arange(10)\n",
        "print(arr)"
      ],
      "metadata": {
        "colab": {
          "base_uri": "https://localhost:8080/"
        },
        "id": "wlHvSCmkW8X1",
        "outputId": "bfa323bd-3741-4659-a224-a0f3065e1be6"
      },
      "execution_count": null,
      "outputs": [
        {
          "output_type": "stream",
          "name": "stdout",
          "text": [
            "[0 1 2 3 4 5 6 7 8 9]\n"
          ]
        }
      ]
    },
    {
      "cell_type": "code",
      "source": [
        "arr.reshape(2,5)"
      ],
      "metadata": {
        "colab": {
          "base_uri": "https://localhost:8080/"
        },
        "id": "CsJpM4K_YEEp",
        "outputId": "1e9997dd-3a5e-47ad-b1cc-9734ba4aca0c"
      },
      "execution_count": null,
      "outputs": [
        {
          "output_type": "execute_result",
          "data": {
            "text/plain": [
              "array([[0, 1, 2, 3, 4],\n",
              "       [5, 6, 7, 8, 9]])"
            ]
          },
          "metadata": {},
          "execution_count": 9
        }
      ]
    },
    {
      "cell_type": "code",
      "source": [
        "arr.reshape(5,2)"
      ],
      "metadata": {
        "colab": {
          "base_uri": "https://localhost:8080/"
        },
        "id": "wKtu7_gOYMz2",
        "outputId": "0db1bec0-eede-4f29-eb17-f5e917f67ad1"
      },
      "execution_count": null,
      "outputs": [
        {
          "output_type": "execute_result",
          "data": {
            "text/plain": [
              "array([[0, 1],\n",
              "       [2, 3],\n",
              "       [4, 5],\n",
              "       [6, 7],\n",
              "       [8, 9]])"
            ]
          },
          "metadata": {},
          "execution_count": 10
        }
      ]
    },
    {
      "cell_type": "markdown",
      "source": [
        "# 3. Create a 4x4 NumPy array with random float values. Add a border of zeros around it, resulting in a 6x6 array"
      ],
      "metadata": {
        "id": "pnxu-DldYZ0o"
      }
    },
    {
      "cell_type": "code",
      "source": [
        "import numpy as np\n",
        "\n",
        "arr = np.random.rand(4, 4)\n",
        "print(arr)\n",
        "\n",
        "# Add a border of zeros around the array\n",
        "bordered_arr = np.pad(arr, pad_width=1, mode='constant', constant_values=0)\n",
        "print(bordered_arr)"
      ],
      "metadata": {
        "colab": {
          "base_uri": "https://localhost:8080/"
        },
        "id": "gPja6SgNYqMJ",
        "outputId": "54eebcd7-08ea-4320-8afc-23c610cb3ac5"
      },
      "execution_count": null,
      "outputs": [
        {
          "output_type": "stream",
          "name": "stdout",
          "text": [
            "[[0.15244274 0.89316036 0.58022445 0.53545148]\n",
            " [0.82337442 0.6933975  0.6707306  0.89261139]\n",
            " [0.74624177 0.92800204 0.02422843 0.81607346]\n",
            " [0.35904564 0.14493712 0.60739427 0.60097641]]\n",
            "[[0.         0.         0.         0.         0.         0.        ]\n",
            " [0.         0.15244274 0.89316036 0.58022445 0.53545148 0.        ]\n",
            " [0.         0.82337442 0.6933975  0.6707306  0.89261139 0.        ]\n",
            " [0.         0.74624177 0.92800204 0.02422843 0.81607346 0.        ]\n",
            " [0.         0.35904564 0.14493712 0.60739427 0.60097641 0.        ]\n",
            " [0.         0.         0.         0.         0.         0.        ]]\n"
          ]
        }
      ]
    },
    {
      "cell_type": "markdown",
      "source": [
        "# 4.Using NumPy, create an array of integers from 10 to 60 with a step of 5\n",
        "\n",
        "\n",
        "\n",
        "\n"
      ],
      "metadata": {
        "id": "-a6789kMYYr6"
      }
    },
    {
      "cell_type": "code",
      "source": [
        "np.arange(10, 61, 5)\n"
      ],
      "metadata": {
        "colab": {
          "base_uri": "https://localhost:8080/"
        },
        "id": "qikM2hISZFVp",
        "outputId": "d09ed72a-4d4d-44d6-a95e-fa568558a002"
      },
      "execution_count": null,
      "outputs": [
        {
          "output_type": "execute_result",
          "data": {
            "text/plain": [
              "array([10, 15, 20, 25, 30, 35, 40, 45, 50, 55, 60])"
            ]
          },
          "metadata": {},
          "execution_count": 45
        }
      ]
    },
    {
      "cell_type": "markdown",
      "source": [
        "# 5. Create a NumPy array of strings ['python', 'numpy', 'pandas']. Apply different case transformations (uppercase, lowercase, title case, etc.) to each element."
      ],
      "metadata": {
        "id": "uWG9qelnarkp"
      }
    },
    {
      "cell_type": "code",
      "source": [
        "arr = np.array(['python', 'numpy', 'pandas'])\n",
        "arr"
      ],
      "metadata": {
        "colab": {
          "base_uri": "https://localhost:8080/"
        },
        "id": "QuJyLp1NZt0d",
        "outputId": "739d43b4-be83-4d94-8474-cd59430a76f3"
      },
      "execution_count": null,
      "outputs": [
        {
          "output_type": "execute_result",
          "data": {
            "text/plain": [
              "array(['python', 'numpy', 'pandas'], dtype='<U6')"
            ]
          },
          "metadata": {},
          "execution_count": 22
        }
      ]
    },
    {
      "cell_type": "code",
      "source": [
        "np.char.upper(arr)"
      ],
      "metadata": {
        "colab": {
          "base_uri": "https://localhost:8080/"
        },
        "id": "G52guQVbbBjq",
        "outputId": "6b2652fe-8d07-46ed-a3db-d2e3e01baeae"
      },
      "execution_count": null,
      "outputs": [
        {
          "output_type": "execute_result",
          "data": {
            "text/plain": [
              "array(['PYTHON', 'NUMPY', 'PANDAS'], dtype='<U6')"
            ]
          },
          "metadata": {},
          "execution_count": 24
        }
      ]
    },
    {
      "cell_type": "code",
      "source": [
        "np.char.lower(arr)"
      ],
      "metadata": {
        "colab": {
          "base_uri": "https://localhost:8080/"
        },
        "id": "f6HTJFoxbUUa",
        "outputId": "aa583d64-ff1f-4bf4-e172-acbcf04b872f"
      },
      "execution_count": null,
      "outputs": [
        {
          "output_type": "execute_result",
          "data": {
            "text/plain": [
              "array(['python', 'numpy', 'pandas'], dtype='<U6')"
            ]
          },
          "metadata": {},
          "execution_count": 25
        }
      ]
    },
    {
      "cell_type": "code",
      "source": [
        "np.char.title(arr)"
      ],
      "metadata": {
        "colab": {
          "base_uri": "https://localhost:8080/"
        },
        "id": "Fxwnhxq6bdAU",
        "outputId": "a3f7786c-e88e-400d-98b7-6b5b48c83fc2"
      },
      "execution_count": null,
      "outputs": [
        {
          "output_type": "execute_result",
          "data": {
            "text/plain": [
              "array(['Python', 'Numpy', 'Pandas'], dtype='<U6')"
            ]
          },
          "metadata": {},
          "execution_count": 26
        }
      ]
    },
    {
      "cell_type": "code",
      "source": [
        "np.char.upper(arr[0])"
      ],
      "metadata": {
        "colab": {
          "base_uri": "https://localhost:8080/"
        },
        "id": "J81xlEMKbgB8",
        "outputId": "e34f0921-34bb-45f6-c48b-bcecae28e763"
      },
      "execution_count": null,
      "outputs": [
        {
          "output_type": "execute_result",
          "data": {
            "text/plain": [
              "array('PYTHON', dtype='<U6')"
            ]
          },
          "metadata": {},
          "execution_count": 27
        }
      ]
    },
    {
      "cell_type": "code",
      "source": [
        "np.char.upper(arr[:2])"
      ],
      "metadata": {
        "colab": {
          "base_uri": "https://localhost:8080/"
        },
        "id": "25jYUXbybqC5",
        "outputId": "f4eda168-3c83-452e-b986-437454d9b3eb"
      },
      "execution_count": null,
      "outputs": [
        {
          "output_type": "execute_result",
          "data": {
            "text/plain": [
              "array(['PYTHON', 'NUMPY'], dtype='<U6')"
            ]
          },
          "metadata": {},
          "execution_count": 28
        }
      ]
    },
    {
      "cell_type": "code",
      "source": [
        "np.char.lower(arr[:2])"
      ],
      "metadata": {
        "colab": {
          "base_uri": "https://localhost:8080/"
        },
        "id": "69rc5UwRbv0t",
        "outputId": "ffd69bb0-0468-4ef0-9715-1aa0d0916a05"
      },
      "execution_count": null,
      "outputs": [
        {
          "output_type": "execute_result",
          "data": {
            "text/plain": [
              "array(['python', 'numpy'], dtype='<U6')"
            ]
          },
          "metadata": {},
          "execution_count": 30
        }
      ]
    },
    {
      "cell_type": "markdown",
      "source": [
        "# 6. Generate a NumPy array of words. Insert a space between each character of every word in the array."
      ],
      "metadata": {
        "id": "KJCc6Ek3crQC"
      }
    },
    {
      "cell_type": "code",
      "source": [
        "arr = np.array(['hello', 'world', 'numpy'])\n",
        "new_arr = np.array([ ' '.join(list(word)) for word in arr])\n",
        "print(new_arr)"
      ],
      "metadata": {
        "colab": {
          "base_uri": "https://localhost:8080/"
        },
        "id": "MsXpty9ceJoJ",
        "outputId": "91b848e6-82de-40f0-b95f-2a9e26e6d84b"
      },
      "execution_count": null,
      "outputs": [
        {
          "output_type": "stream",
          "name": "stdout",
          "text": [
            "['h e l l o' 'w o r l d' 'n u m p y']\n"
          ]
        }
      ]
    },
    {
      "cell_type": "markdown",
      "source": [
        "# 7. Create two 2D NumPy arrays and perform element-wise addition, subtraction, multiplication, and division"
      ],
      "metadata": {
        "id": "aRy7bByReLhg"
      }
    },
    {
      "cell_type": "markdown",
      "source": [],
      "metadata": {
        "id": "EhCq9FY7eWH4"
      }
    },
    {
      "cell_type": "code",
      "source": [
        "arr1 = np.array([[1, 2], [3, 4]])\n",
        "arr2 = np.array([[5, 6], [7, 8]])\n",
        "\n",
        "# Element-wise addition\n",
        "addition_result = arr1 + arr2\n",
        "print(\"Addition:\\n\", addition_result)\n",
        "\n",
        "# Element-wise subtraction\n",
        "subtraction_result = arr1 - arr2\n",
        "print(\"Subtraction:\\n\", subtraction_result)\n",
        "\n",
        "# Element-wise multiplication\n",
        "multiplication_result = arr1 * arr2\n",
        "print(\"Multiplication:\\n\", multiplication_result)\n",
        "\n",
        "# Element-wise division\n",
        "division_result = arr1 / arr2\n",
        "print(\"Division:\\n\", division_result)"
      ],
      "metadata": {
        "colab": {
          "base_uri": "https://localhost:8080/"
        },
        "id": "Qf3zqU8xei0Z",
        "outputId": "4de8e7c2-4c12-4516-8f3c-7d52b8e09177"
      },
      "execution_count": null,
      "outputs": [
        {
          "output_type": "stream",
          "name": "stdout",
          "text": [
            "Addition:\n",
            " [[ 6  8]\n",
            " [10 12]]\n",
            "Subtraction:\n",
            " [[-4 -4]\n",
            " [-4 -4]]\n",
            "Multiplication:\n",
            " [[ 5 12]\n",
            " [21 32]]\n",
            "Division:\n",
            " [[0.2        0.33333333]\n",
            " [0.42857143 0.5       ]]\n"
          ]
        }
      ]
    },
    {
      "cell_type": "markdown",
      "source": [
        "# 8.Use NumPy to create a 5x5 identity matrix, then extract its diagonal elements."
      ],
      "metadata": {
        "id": "pBju3MS2ek35"
      }
    },
    {
      "cell_type": "code",
      "source": [
        "identity_matrix = np.identity(5)\n",
        "print(\"Identity Matrix:\\n\", identity_matrix)\n",
        "\n",
        "# Extract the diagonal elements\n",
        "diagonal_elements = np.diag(identity_matrix)\n",
        "print(\"Diagonal Elements:\\n\", diagonal_elements)\n"
      ],
      "metadata": {
        "colab": {
          "base_uri": "https://localhost:8080/"
        },
        "id": "uJBZL0KaepNY",
        "outputId": "04f6e5a4-3230-4a7c-c863-06f6bd958383"
      },
      "execution_count": null,
      "outputs": [
        {
          "output_type": "stream",
          "name": "stdout",
          "text": [
            "Identity Matrix:\n",
            " [[1. 0. 0. 0. 0.]\n",
            " [0. 1. 0. 0. 0.]\n",
            " [0. 0. 1. 0. 0.]\n",
            " [0. 0. 0. 1. 0.]\n",
            " [0. 0. 0. 0. 1.]]\n",
            "Diagonal Elements:\n",
            " [1. 1. 1. 1. 1.]\n"
          ]
        }
      ]
    },
    {
      "cell_type": "markdown",
      "source": [
        "# 9. Generate a NumPy array of 100 random integers between 0 and 1000. Find and display all prime numbers in this array\n",
        "\n"
      ],
      "metadata": {
        "id": "DiPL6to0e5Tp"
      }
    },
    {
      "cell_type": "code",
      "source": [
        "def is_prime(n):\n",
        "\n",
        "  if n <= 1:\n",
        "    return False\n",
        "  for i in range(2, int(n**0.5) + 1):\n",
        "    if n % i == 0:\n",
        "      return False\n",
        "  return True\n",
        "\n",
        "arr = np.random.randint(0, 1001, 100)\n",
        "arr\n",
        "\n",
        "\n"
      ],
      "metadata": {
        "colab": {
          "base_uri": "https://localhost:8080/"
        },
        "id": "xEZqnjq-fD_Y",
        "outputId": "ce9ded29-f9f7-4b49-bc74-8de5ea20b6dd"
      },
      "execution_count": null,
      "outputs": [
        {
          "output_type": "execute_result",
          "data": {
            "text/plain": [
              "array([916, 894, 997, 338, 587, 100, 366, 399, 792, 848, 377, 589, 163,\n",
              "       951, 991, 201, 568, 127, 216, 121, 780, 928, 482, 663, 492, 287,\n",
              "       313, 744, 606,  38,  87, 552, 589, 669, 834, 123, 603, 569, 622,\n",
              "       304, 540, 458, 167, 209, 297, 597, 423, 952, 296, 547, 376, 252,\n",
              "       243, 936, 967, 268, 552, 819, 540, 535, 543, 651, 319, 933, 176,\n",
              "       379, 184, 287, 872, 787, 552, 590, 328, 410, 694, 732, 838, 683,\n",
              "       398,  74, 865, 370, 265, 646, 449, 231, 588, 794, 420, 806, 106,\n",
              "       518, 372, 490, 498, 277, 764,  26, 247, 148])"
            ]
          },
          "metadata": {},
          "execution_count": 43
        }
      ]
    },
    {
      "cell_type": "code",
      "source": [
        "prime_numbers = [num for num in arr if is_prime(num)]\n",
        "print(\"Prime numbers in the array:\", prime_numbers)"
      ],
      "metadata": {
        "colab": {
          "base_uri": "https://localhost:8080/"
        },
        "id": "0-qsKW31gFGw",
        "outputId": "b167476f-7cc2-49ba-e477-07cbd80ccfc8"
      },
      "execution_count": null,
      "outputs": [
        {
          "output_type": "stream",
          "name": "stdout",
          "text": [
            "Prime numbers in the array: [997, 587, 163, 991, 127, 313, 569, 167, 547, 967, 379, 787, 683, 449, 277]\n"
          ]
        }
      ]
    },
    {
      "cell_type": "markdown",
      "source": [],
      "metadata": {
        "id": "QHjPmgmrgJ65"
      }
    },
    {
      "cell_type": "markdown",
      "source": [
        "# 10. Create a NumPy array representing daily temperatures for a month. Calculate and display the weekly averages."
      ],
      "metadata": {
        "id": "T-qCV8WggbXx"
      }
    },
    {
      "cell_type": "code",
      "source": [
        "temperatures = np.random.randint(15, 35, 28)\n",
        "\n",
        "# Reshape the array into a 4x7 matrix (4 weeks, 7 days each)\n",
        "weekly_temperatures = temperatures.reshape(4, 7)\n",
        "\n",
        "# Calculate the weekly averages\n",
        "weekly_averages = np.mean(weekly_temperatures, axis=1)\n",
        "\n",
        "print(\"Daily Temperatures:\\n\", temperatures)\n",
        "print(\"\\nWeekly Temperatures:\\n\", weekly_temperatures)\n",
        "print(\"\\nWeekly Averages:\\n\", weekly_averages)\n",
        "\n"
      ],
      "metadata": {
        "colab": {
          "base_uri": "https://localhost:8080/"
        },
        "id": "Qxxshgapgz1g",
        "outputId": "01fe3f9f-79fb-448d-d0bc-75d4196cde1e"
      },
      "execution_count": null,
      "outputs": [
        {
          "output_type": "stream",
          "name": "stdout",
          "text": [
            "Daily Temperatures:\n",
            " [16 15 24 17 16 18 22 19 26 20 22 34 25 28 33 32 27 28 28 27 15 18 33 29\n",
            " 18 30 31 33]\n",
            "\n",
            "Weekly Temperatures:\n",
            " [[16 15 24 17 16 18 22]\n",
            " [19 26 20 22 34 25 28]\n",
            " [33 32 27 28 28 27 15]\n",
            " [18 33 29 18 30 31 33]]\n",
            "\n",
            "Weekly Averages:\n",
            " [18.28571429 24.85714286 27.14285714 27.42857143]\n"
          ]
        }
      ]
    }
  ]
}