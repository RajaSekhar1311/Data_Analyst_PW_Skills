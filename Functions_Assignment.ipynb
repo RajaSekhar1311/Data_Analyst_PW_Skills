{
  "nbformat": 4,
  "nbformat_minor": 0,
  "metadata": {
    "colab": {
      "provenance": [],
      "authorship_tag": "ABX9TyNkZtMsnlyLbmRY1Rbzp88o",
      "include_colab_link": true
    },
    "kernelspec": {
      "name": "python3",
      "display_name": "Python 3"
    },
    "language_info": {
      "name": "python"
    }
  },
  "cells": [
    {
      "cell_type": "markdown",
      "metadata": {
        "id": "view-in-github",
        "colab_type": "text"
      },
      "source": [
        "<a href=\"https://colab.research.google.com/github/RajaSekhar1311/Data_Analyst_PW_Skills/blob/main/Functions_Assignment.ipynb\" target=\"_parent\"><img src=\"https://colab.research.google.com/assets/colab-badge.svg\" alt=\"Open In Colab\"/></a>"
      ]
    },
    {
      "cell_type": "markdown",
      "source": [
        "1. Write a Python function that takes a list of numbers as input and returns the sum of all even numbers in\n",
        "the list"
      ],
      "metadata": {
        "id": "F_mR9W8D8vAb"
      }
    },
    {
      "cell_type": "code",
      "source": [
        "def sum_even_numbers(numbers):\n",
        "  \"\"\"\n",
        "  This function takes a list of numbers as input and returns the sum of all even numbers in the list.\n",
        "  \"\"\"\n",
        "  sum = 0\n",
        "  for num in numbers:\n",
        "    if num % 2 == 0:\n",
        "      sum += num\n",
        "  return sum\n",
        "sum_even_numbers([20, 12, 11, 14, 9, 6, 22, 23])"
      ],
      "metadata": {
        "colab": {
          "base_uri": "https://localhost:8080/"
        },
        "id": "nk6sp4RA51hV",
        "outputId": "0f5219af-2d3a-4c9c-9837-df61869c3656"
      },
      "execution_count": 16,
      "outputs": [
        {
          "output_type": "execute_result",
          "data": {
            "text/plain": [
              "74"
            ]
          },
          "metadata": {},
          "execution_count": 16
        }
      ]
    },
    {
      "cell_type": "markdown",
      "source": [
        "2.Create a Python function that accepts a string and returns the reverse of that string."
      ],
      "metadata": {
        "id": "sLq2evWt9ISE"
      }
    },
    {
      "cell_type": "code",
      "source": [
        "def reverse_string(string):\n",
        "  \"\"\"\n",
        "  This function takes a string as input and returns the string in reverse order.\n",
        "  \"\"\"\n",
        "  reversed_string = \"\"\n",
        "  for i in range(len(string)-1, -1, -1):\n",
        "    reversed_string += string[i]\n",
        "  return reversed_string\n",
        "reverse_string(\"PW SKILLS\")"
      ],
      "metadata": {
        "colab": {
          "base_uri": "https://localhost:8080/",
          "height": 35
        },
        "id": "mwVoYKcj6GDl",
        "outputId": "4db6f9dc-db15-4a4f-ac1d-4bbc454af7b1"
      },
      "execution_count": 17,
      "outputs": [
        {
          "output_type": "execute_result",
          "data": {
            "text/plain": [
              "'SLLIKS WP'"
            ],
            "application/vnd.google.colaboratory.intrinsic+json": {
              "type": "string"
            }
          },
          "metadata": {},
          "execution_count": 17
        }
      ]
    },
    {
      "cell_type": "markdown",
      "source": [
        "3. Implement a Python function that takes a list of integers and returns a new list containing the squares of\n",
        "each number."
      ],
      "metadata": {
        "id": "j2CB66t8Al5s"
      }
    },
    {
      "cell_type": "code",
      "source": [
        "def square_numbers(numbers):\n",
        "  \"\"\"\n",
        "  This function takes a list of integers as input and returns a new list containing the squares of each number.\n",
        "  \"\"\"\n",
        "  squares = []\n",
        "  for i in numbers:\n",
        "    squares.append(i**2)\n",
        "  return squares\n",
        ""
      ],
      "metadata": {
        "id": "cywoR3mB-BXC"
      },
      "execution_count": 28,
      "outputs": []
    },
    {
      "cell_type": "code",
      "source": [
        "square_numbers([1, 2, 3, 4, 5])"
      ],
      "metadata": {
        "colab": {
          "base_uri": "https://localhost:8080/"
        },
        "id": "UqEVXu6gAsoC",
        "outputId": "db6f0843-2427-45da-81f5-39ab99d85998"
      },
      "execution_count": 30,
      "outputs": [
        {
          "output_type": "execute_result",
          "data": {
            "text/plain": [
              "[1, 4, 9, 16, 25]"
            ]
          },
          "metadata": {},
          "execution_count": 30
        }
      ]
    },
    {
      "cell_type": "markdown",
      "source": [
        "4. Write a Python function that checks if a given number is prime or not from 1 to 200."
      ],
      "metadata": {
        "id": "JABiz5owA724"
      }
    },
    {
      "cell_type": "code",
      "source": [
        "a=int(input(\"enter a number\"))\n",
        "if 1<=a<=200:\n",
        "  if a%2==0:\n",
        "    print(\"prime\")\n",
        "  else:\n",
        "    print(\"not prime\")\n",
        "\n",
        "else:\n",
        "  print(\"enter a number between 1 to 200\")\n",
        "\n",
        "\n",
        "\n",
        ""
      ],
      "metadata": {
        "colab": {
          "base_uri": "https://localhost:8080/"
        },
        "id": "QcU4eB3jA1Px",
        "outputId": "c7d28458-afe0-485c-80e3-de5e1b18bcfb"
      },
      "execution_count": 39,
      "outputs": [
        {
          "output_type": "stream",
          "name": "stdout",
          "text": [
            "enter a number6\n",
            "prime\n"
          ]
        }
      ]
    },
    {
      "cell_type": "markdown",
      "source": [
        "5. Create an iterator class in Python that generates the Fibonacci sequence up to a specified number of\n",
        "terms."
      ],
      "metadata": {
        "id": "AWzXb6BxC7mX"
      }
    },
    {
      "cell_type": "code",
      "source": [
        "class FibonacciIterator:\n",
        "    def __init__(self, n):\n",
        "        self.n = n\n",
        "        self.count = 0\n",
        "        self.a = 0\n",
        "        self.b = 1\n",
        "\n",
        "    def __iter__(self):\n",
        "        return self\n",
        "\n",
        "    def __next__(self):\n",
        "        if self.count < self.n:\n",
        "            if self.count == 0:\n",
        "                result = self.a\n",
        "            elif self.count == 1:\n",
        "                result = self.b\n",
        "            else:\n",
        "                result = self.a + self.b\n",
        "                self.a = self.b\n",
        "                self.b = result\n",
        "            self.count += 1\n",
        "            return result\n",
        "        else:\n",
        "            raise StopIteration\n"
      ],
      "metadata": {
        "id": "ioT9utpcCu5P"
      },
      "execution_count": null,
      "outputs": []
    },
    {
      "cell_type": "code",
      "source": [
        "fib_iterator = FibonacciIterator(10)\n",
        "for number in fib_iterator:\n",
        "    print(number)"
      ],
      "metadata": {
        "colab": {
          "base_uri": "https://localhost:8080/"
        },
        "id": "xF8AMaL5EaPV",
        "outputId": "8b976948-c175-41dd-e09e-d47e23728223"
      },
      "execution_count": 57,
      "outputs": [
        {
          "output_type": "stream",
          "name": "stdout",
          "text": [
            "0\n",
            "1\n",
            "1\n",
            "2\n",
            "3\n",
            "5\n",
            "8\n",
            "13\n",
            "21\n",
            "34\n"
          ]
        }
      ]
    },
    {
      "cell_type": "markdown",
      "source": [
        "6. Write a generator function in Python that yields the powers of 2 up to a given exponent.\n",
        "\n"
      ],
      "metadata": {
        "id": "VtG-cRqyGfyM"
      }
    },
    {
      "cell_type": "code",
      "source": [
        "def powers_of_two(exponent):\n",
        "  \"\"\"\n",
        "  This generator function yields the powers of 2 up to a given exponent.\n",
        "  \"\"\"\n",
        "  for i in range(exponent + 1):\n",
        "    yield 2 ** i\n"
      ],
      "metadata": {
        "id": "oyetzn8-GffM"
      },
      "execution_count": 59,
      "outputs": []
    },
    {
      "cell_type": "code",
      "source": [
        "power=powers_of_two(4)\n",
        "power"
      ],
      "metadata": {
        "colab": {
          "base_uri": "https://localhost:8080/"
        },
        "id": "iPpTBDdpG2jH",
        "outputId": "94b4759e-f853-4e1a-cead-814ac15711d5"
      },
      "execution_count": 71,
      "outputs": [
        {
          "output_type": "execute_result",
          "data": {
            "text/plain": [
              "<generator object powers_of_two at 0x7e0bcd2c37d0>"
            ]
          },
          "metadata": {},
          "execution_count": 71
        }
      ]
    },
    {
      "cell_type": "code",
      "source": [
        "next(power)"
      ],
      "metadata": {
        "colab": {
          "base_uri": "https://localhost:8080/"
        },
        "id": "-9hoe7M7HRNe",
        "outputId": "2c2f2ca1-a3b6-4ef2-b41a-223253060969"
      },
      "execution_count": 72,
      "outputs": [
        {
          "output_type": "execute_result",
          "data": {
            "text/plain": [
              "1"
            ]
          },
          "metadata": {},
          "execution_count": 72
        }
      ]
    },
    {
      "cell_type": "code",
      "source": [
        "next(power)"
      ],
      "metadata": {
        "colab": {
          "base_uri": "https://localhost:8080/"
        },
        "id": "14UD_YO9HSL-",
        "outputId": "6c1a660e-0396-4837-c6b8-b72b647cce26"
      },
      "execution_count": 73,
      "outputs": [
        {
          "output_type": "execute_result",
          "data": {
            "text/plain": [
              "2"
            ]
          },
          "metadata": {},
          "execution_count": 73
        }
      ]
    },
    {
      "cell_type": "code",
      "source": [
        "next(power)"
      ],
      "metadata": {
        "colab": {
          "base_uri": "https://localhost:8080/"
        },
        "id": "9Xh7Z7A0Hg2j",
        "outputId": "d1e92c27-9f39-47e6-d938-6da54684037c"
      },
      "execution_count": 74,
      "outputs": [
        {
          "output_type": "execute_result",
          "data": {
            "text/plain": [
              "4"
            ]
          },
          "metadata": {},
          "execution_count": 74
        }
      ]
    },
    {
      "cell_type": "code",
      "source": [
        "next(power)"
      ],
      "metadata": {
        "colab": {
          "base_uri": "https://localhost:8080/"
        },
        "id": "clmIuIzsHiDV",
        "outputId": "bc3cd9a8-6966-44a6-f223-719f8382b371"
      },
      "execution_count": 75,
      "outputs": [
        {
          "output_type": "execute_result",
          "data": {
            "text/plain": [
              "8"
            ]
          },
          "metadata": {},
          "execution_count": 75
        }
      ]
    },
    {
      "cell_type": "code",
      "source": [
        "next(power)"
      ],
      "metadata": {
        "colab": {
          "base_uri": "https://localhost:8080/"
        },
        "id": "3u4Q6xxHHjVd",
        "outputId": "773097d6-4ac6-4760-a117-3da4bc2ae3be"
      },
      "execution_count": 76,
      "outputs": [
        {
          "output_type": "execute_result",
          "data": {
            "text/plain": [
              "16"
            ]
          },
          "metadata": {},
          "execution_count": 76
        }
      ]
    },
    {
      "cell_type": "code",
      "source": [
        "next(power)"
      ],
      "metadata": {
        "colab": {
          "base_uri": "https://localhost:8080/",
          "height": 141
        },
        "id": "6rBDHYA-HkmH",
        "outputId": "8867d814-c98f-4398-91f3-aa9dd21f4c89"
      },
      "execution_count": 77,
      "outputs": [
        {
          "output_type": "error",
          "ename": "StopIteration",
          "evalue": "",
          "traceback": [
            "\u001b[0;31m---------------------------------------------------------------------------\u001b[0m",
            "\u001b[0;31mStopIteration\u001b[0m                             Traceback (most recent call last)",
            "\u001b[0;32m<ipython-input-77-d361c28b1d07>\u001b[0m in \u001b[0;36m<cell line: 1>\u001b[0;34m()\u001b[0m\n\u001b[0;32m----> 1\u001b[0;31m \u001b[0mnext\u001b[0m\u001b[0;34m(\u001b[0m\u001b[0mpower\u001b[0m\u001b[0;34m)\u001b[0m\u001b[0;34m\u001b[0m\u001b[0;34m\u001b[0m\u001b[0m\n\u001b[0m",
            "\u001b[0;31mStopIteration\u001b[0m: "
          ]
        }
      ]
    },
    {
      "cell_type": "markdown",
      "source": [
        "7.Implement a generator function that reads a file line by line and yields each line as a string."
      ],
      "metadata": {
        "id": "Wk7EYxVZH7JU"
      }
    },
    {
      "cell_type": "code",
      "source": [
        "def read_file_line_by_line(filename):\n",
        "  \"\"\"\n",
        "  This generator function reads a file line by line and yields each line as a string.\n",
        "  \"\"\"\n",
        "  with open(filename, 'r') as file:\n",
        "    for line in file:\n",
        "      yield line.strip()\n"
      ],
      "metadata": {
        "id": "9OQ-ELBiHlx_"
      },
      "execution_count": 79,
      "outputs": []
    },
    {
      "cell_type": "markdown",
      "source": [
        "8. Use a lambda function in Python to sort a list of tuples based on the second element of each tuple."
      ],
      "metadata": {
        "id": "B2KWdPyGIxR8"
      }
    },
    {
      "cell_type": "code",
      "source": [
        "data = [('apple', 3), ('banana', 4), ('cherry', 2)]\n",
        "sorted_data = sorted(data, key=lambda x: x[1])\n",
        "print(sorted_data)\n"
      ],
      "metadata": {
        "colab": {
          "base_uri": "https://localhost:8080/"
        },
        "id": "ussTSvFEIpRq",
        "outputId": "608fb6e4-9c0e-4991-eb3a-17f383958833"
      },
      "execution_count": 87,
      "outputs": [
        {
          "output_type": "stream",
          "name": "stdout",
          "text": [
            "[('cherry', 2), ('apple', 3), ('banana', 4)]\n"
          ]
        }
      ]
    },
    {
      "cell_type": "markdown",
      "source": [
        "9.Write a Python program that uses `map()` to convert a list of temperatures from Celsius to Fahrenheit"
      ],
      "metadata": {
        "id": "E8GGaL_HJoiq"
      }
    },
    {
      "cell_type": "code",
      "source": [
        "def celsius_to_fahrenheit(celsius):\n",
        "  \"\"\"\n",
        "  This function converts a temperature from Celsius to Fahrenheit.\n",
        "  \"\"\"\n",
        "  return (celsius * 9/5) + 32\n",
        "\n",
        "temperatures_celsius = [0, 10, 20, 30, 40]\n",
        "temperatures_fahrenheit = list(map(celsius_to_fahrenheit, temperatures_celsius))\n",
        "print(temperatures_fahrenheit)\n"
      ],
      "metadata": {
        "colab": {
          "base_uri": "https://localhost:8080/"
        },
        "id": "kQFFxtNqI9Il",
        "outputId": "ff1bc224-1011-41a3-a2ea-42625ea24c30"
      },
      "execution_count": 88,
      "outputs": [
        {
          "output_type": "stream",
          "name": "stdout",
          "text": [
            "[32.0, 50.0, 68.0, 86.0, 104.0]\n"
          ]
        }
      ]
    },
    {
      "cell_type": "markdown",
      "source": [
        "10. Create a Python program that uses `filter()` to remove all the vowels from a given string."
      ],
      "metadata": {
        "id": "2WNwcEsXJ4jZ"
      }
    },
    {
      "cell_type": "code",
      "source": [
        "def remove_vowels(string):\n",
        "  \"\"\"\n",
        "  This function removes all the vowels from a given string.\n",
        "  \"\"\"\n",
        "  vowels = \"aeiouAEIOU\"\n",
        "  return ''.join(filter(lambda x: x not in vowels, string))\n",
        "\n",
        "string = \"Hello World!\"\n",
        "result = remove_vowels(string)\n",
        "print(result)\n"
      ],
      "metadata": {
        "colab": {
          "base_uri": "https://localhost:8080/"
        },
        "id": "Kl-U_gKDJ77n",
        "outputId": "18c4a962-f431-4244-fd7c-6b8fb251ec82"
      },
      "execution_count": 89,
      "outputs": [
        {
          "output_type": "stream",
          "name": "stdout",
          "text": [
            "Hll Wrld!\n"
          ]
        }
      ]
    },
    {
      "cell_type": "markdown",
      "source": [
        "11) Imagine an accounting routine used in a book shop. It works on a list with sublists, which look like this:\n",
        "\n",
        "\n",
        "\n",
        "\n",
        "\n",
        "\n",
        "\n",
        "Write a Python program, which returns a list with 2-tuples. Each tuple consists of the order number and the\n",
        "product of the price per item and the quantity. The product should be increased by 10,- € if the value of the\n",
        "order is smaller than 100,00 €.\n",
        "\n",
        "Write a Python program using lambda and map."
      ],
      "metadata": {
        "id": "hkqrs7D_KKyo"
      }
    },
    {
      "cell_type": "code",
      "source": [
        "\n",
        "orders = [\n",
        "    (1, 40.95, 4),   # Order 1: Price = 40.95€, Quantity = 4\n",
        "    (2, 56.80, 5),   # Order 2: Price = 56.80€, Quantity = 5\n",
        "    (3, 32.95, 3),   # Order 3: Price = 32.95€, Quantity = 3\n",
        "    (4, 24.99, 3),   # Order 4: Price = 24.99€, Quantity = 3\n",
        "]\n",
        "\n",
        "# Function to calculate the total price and apply the adjustment\n",
        "def calculate_total(order):\n",
        "    order_number, price, quantity = order\n",
        "    total_price = price * quantity\n",
        "    if total_price < 100:\n",
        "        total_price += 10\n",
        "    return (order_number, total_price)\n",
        "\n",
        "# Use map and lambda to apply the function to each order\n",
        "result = list(map(lambda order: calculate_total(order), orders))\n",
        "\n",
        "# Print the result\n",
        "print(result)\n"
      ],
      "metadata": {
        "colab": {
          "base_uri": "https://localhost:8080/"
        },
        "id": "dYRMhSrLLlbp",
        "outputId": "f44d0ecd-ef54-4eef-eaf6-6ab1c0cb97b5"
      },
      "execution_count": 92,
      "outputs": [
        {
          "output_type": "stream",
          "name": "stdout",
          "text": [
            "[(1, 163.8), (2, 284.0), (3, 108.85000000000001), (4, 84.97)]\n"
          ]
        }
      ]
    }
  ]
}