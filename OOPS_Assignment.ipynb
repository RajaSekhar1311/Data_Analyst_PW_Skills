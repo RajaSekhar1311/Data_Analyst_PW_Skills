{
  "nbformat": 4,
  "nbformat_minor": 0,
  "metadata": {
    "colab": {
      "provenance": [],
      "authorship_tag": "ABX9TyOsQfUtGFx3QTmQzOrUypO6",
      "include_colab_link": true
    },
    "kernelspec": {
      "name": "python3",
      "display_name": "Python 3"
    },
    "language_info": {
      "name": "python"
    }
  },
  "cells": [
    {
      "cell_type": "markdown",
      "metadata": {
        "id": "view-in-github",
        "colab_type": "text"
      },
      "source": [
        "<a href=\"https://colab.research.google.com/github/RajaSekhar1311/Data_Analyst_PW_Skills/blob/main/OOPS_Assignment.ipynb\" target=\"_parent\"><img src=\"https://colab.research.google.com/assets/colab-badge.svg\" alt=\"Open In Colab\"/></a>"
      ]
    },
    {
      "cell_type": "markdown",
      "source": [
        "# 1. **What are the five key concepts of Object-Oriented Programming (OOP)**\n",
        "\n"
      ],
      "metadata": {
        "id": "2D8CeIIYZzMS"
      }
    },
    {
      "cell_type": "markdown",
      "source": [
        "The Five key concepts of Object-Oriented Programming (OOP) are:\n",
        "\n",
        "\n",
        "*   Encapsulation\n",
        "*   Abstraction\n",
        "*   Inheritance\n",
        "*   Polymorphism\n",
        "*   Composition\n",
        "\n",
        "**Encapsulation**:\n",
        "\n",
        "This principle is about bundling the data (attributes) and methods (functions) that operate on the data into a single unit, called a class. Encapsulation helps to protect the internal state of an object from unintended or harmful modifications and allows the implementation details to be hidden from the outside world. It promotes modularity and helps manage complexity by restricting direct access to some of the object's components.\n",
        "\n",
        "**Abstraction**:\n",
        "\n",
        "Abstraction involves hiding the complex implementation details and showing only the essential features of an object. By focusing on what an object does rather than how it does it, abstraction simplifies interaction with complex systems and helps in reducing complexity. It is often implemented through abstract classes or interfaces.\n",
        "\n",
        "**Inheritance**:\n",
        "\n",
        " This concept allows a new class (subclass or derived class) to inherit properties and behavior (methods) from an existing class (base class or superclass). Inheritance promotes code reuse and establishes a hierarchical relationship between classes. It also facilitates polymorphism, where a derived class can override or extend the functionality of a base class.\n",
        "\n",
        "**Polymorphism**:\n",
        "\n",
        " Polymorphism means \"many forms\" and allows objects of different classes to be treated as objects of a common superclass. It enables a single function or operator to work in different ways depending on the context. There are two main types: compile-time polymorphism (method overloading) and runtime polymorphism (method overriding).\n",
        "\n",
        "**Composition**:\n",
        "\n",
        "Often considered alongside or as part of encapsulation, composition is a design principle where a class is composed of one or more objects from other classes, rather than inheriting from them. This allows for a flexible design where objects can be constructed using other objects, promoting reuse and reducing tight coupling between classes."
      ],
      "metadata": {
        "id": "fMRCCb96XGyT"
      }
    },
    {
      "cell_type": "markdown",
      "source": [
        "# 2. Write a Python class for a `Car` with attributes for `make`, `model`, and `year`. Include a method to display the car's information"
      ],
      "metadata": {
        "id": "20CT_GBdfbx8"
      }
    },
    {
      "cell_type": "code",
      "source": [
        "class Car:\n",
        "  def __init__(self, make, model, year):\n",
        "    self.make = make\n",
        "    self.model = model\n",
        "    self.year = year\n",
        "\n",
        "  def display_info(self):\n",
        "    print(f\"Make: {self.make}\")\n",
        "    print(f\"Model: {self.model}\")\n",
        "    print(f\"Year: {self.year}\")\n",
        "\n",
        "car1=Car(\"Toyota\", \"Camry\", 2022)\n",
        "car1.display_info()"
      ],
      "metadata": {
        "colab": {
          "base_uri": "https://localhost:8080/"
        },
        "id": "6MM7C9MtbYjk",
        "outputId": "a9a990db-c7e6-4733-a2d2-837dfbe7b039"
      },
      "execution_count": 4,
      "outputs": [
        {
          "output_type": "stream",
          "name": "stdout",
          "text": [
            "Make: Toyota\n",
            "Model: Camry\n",
            "Year: 2022\n"
          ]
        }
      ]
    },
    {
      "cell_type": "markdown",
      "source": [
        "# 3. **Explain the difference between instance methods and class methods. Provide an example of each**"
      ],
      "metadata": {
        "id": "5Nmv9hfAbaow"
      }
    },
    {
      "cell_type": "markdown",
      "source": [
        "In Object-Oriented Programming (OOP), methods defined within a class can be classified into different types based on how they interact with class instances and the class itself. Two common types of methods are instance methods and class methods.\n",
        "\n",
        "**Instance Methods**\n",
        "\n",
        "**Definition**: Instance methods are functions defined inside a class that operate on instances of that class. They take the instance (object) itself as their first argument, which is conventionally named self.\n",
        "\n",
        "**Usage**: Instance methods can access and modify the object's attributes. They typically perform operations that are specific to a particular instance of the class.\n",
        "\n",
        "Example:"
      ],
      "metadata": {
        "id": "chmwobvccEIC"
      }
    },
    {
      "cell_type": "code",
      "source": [
        "class MyClass:\n",
        "    def instance_method(self):\n",
        "        return \"This is an instance method\"\n",
        "\n",
        "obj = MyClass()\n",
        "print(obj.instance_method())  # Output: This is an instance method\n"
      ],
      "metadata": {
        "colab": {
          "base_uri": "https://localhost:8080/"
        },
        "id": "Hmj4msQXcufu",
        "outputId": "d39b7c65-b33f-4827-acb6-36e2324671b9"
      },
      "execution_count": 5,
      "outputs": [
        {
          "output_type": "stream",
          "name": "stdout",
          "text": [
            "This is an instance method\n"
          ]
        }
      ]
    },
    {
      "cell_type": "markdown",
      "source": [
        "**Class Methods**\n",
        "\n",
        "**Definition**: Class methods are functions defined inside a class that operate on the class itself rather than on instances of the class. They take the class itself as their first argument, which is conventionally named cls. Class methods are defined using the @classmethod decorator.\n",
        "\n",
        "**Usage**: Class methods can modify class state that applies across all instances of the class. They are used for operations that are related to the class itself rather than any individual instance.\n",
        "\n",
        "Example:"
      ],
      "metadata": {
        "id": "5xqnat9vdCWH"
      }
    },
    {
      "cell_type": "code",
      "source": [
        "class Car:\n",
        "    num_wheels = 4\n",
        "\n",
        "    @classmethod\n",
        "    def wheel_count(cls):\n",
        "        # Class method\n",
        "        return f\"Number of wheels: {cls.num_wheels}\"\n",
        "\n",
        "# Calling the class method\n",
        "print(Car.wheel_count())  # Output: Number of wheels: 4\n"
      ],
      "metadata": {
        "colab": {
          "base_uri": "https://localhost:8080/"
        },
        "id": "ufk79Xu4dRm2",
        "outputId": "203a890c-11e8-4f2f-d654-0bffdaefe2a5"
      },
      "execution_count": 6,
      "outputs": [
        {
          "output_type": "stream",
          "name": "stdout",
          "text": [
            "Number of wheels: 4\n"
          ]
        }
      ]
    },
    {
      "cell_type": "markdown",
      "source": [
        "In this example, wheel_count is a class method that accesses cls.num_wheels, which is a class attribute shared among all instances of the Car class.\n",
        "\n",
        "**Differences**\n",
        "\n",
        "**Scope**: Instance methods work with instance-specific data, while class methods work with class-level data.\n",
        "\n",
        "**Invocation**: Instance methods require an instance to be called, whereas class methods can be called on the class itself.\n",
        "\n",
        "**Access**: Instance methods can access instance attributes and methods, while class methods can access class attributes and methods."
      ],
      "metadata": {
        "id": "RrDCniDSdffB"
      }
    },
    {
      "cell_type": "markdown",
      "source": [
        "# 4. **How does Python implement method overloading? Give an example**"
      ],
      "metadata": {
        "id": "XRVKAPUIdbYm"
      }
    },
    {
      "cell_type": "markdown",
      "source": [
        "In Python, method overloading (i.e., having multiple methods with the same name but different signatures) is not supported in the traditional sense as seen in other programming languages like Java or C++. However, Python achieves a form of method overloading using default arguments, variable-length argument lists, or by manually handling different argument types within a single method.\n",
        "\n",
        "\n",
        "1. **Using Default Arguments**\n",
        "\n",
        "You can define a method with default values for parameters, which allows you to call the method with varying numbers of arguments.\n",
        "\n",
        "Example:"
      ],
      "metadata": {
        "id": "T0w47g-Xdthf"
      }
    },
    {
      "cell_type": "code",
      "source": [
        "class Example:\n",
        "    def display(self, a, b=10):\n",
        "        print(f\"a: {a}, b: {b}\")\n",
        "\n",
        "# Creating an instance of Example\n",
        "obj = Example()\n",
        "\n",
        "# Calling the method with one argument\n",
        "obj.display(5)  # Output: a: 5, b: 10\n",
        "\n",
        "# Calling the method with two arguments\n",
        "obj.display(5, 20)  # Output: a: 5, b: 20\n"
      ],
      "metadata": {
        "colab": {
          "base_uri": "https://localhost:8080/"
        },
        "id": "scNtXQOzeo2y",
        "outputId": "ad1bafcd-14a1-40d6-bc8c-9ea19cc17920"
      },
      "execution_count": 7,
      "outputs": [
        {
          "output_type": "stream",
          "name": "stdout",
          "text": [
            "a: 5, b: 10\n",
            "a: 5, b: 20\n"
          ]
        }
      ]
    },
    {
      "cell_type": "markdown",
      "source": [
        "In this example, the display method can handle both one and two arguments due to the default value of b.\n",
        "\n",
        "2. **Using Variable-Length Arguments**\n",
        "\n",
        "Python supports variable-length arguments using *args (for positional arguments) and **kwargs (for keyword arguments). This allows you to handle different numbers of arguments in a single method.\n",
        "\n",
        "Example:"
      ],
      "metadata": {
        "id": "LF0WVqtkevyy"
      }
    },
    {
      "cell_type": "code",
      "source": [
        "class Example:\n",
        "    def display(self, *args):\n",
        "        print(\"Arguments:\", args)\n",
        "\n",
        "# Creating an instance of Example\n",
        "obj = Example()\n",
        "\n",
        "# Calling the method with different numbers of arguments\n",
        "obj.display(1)  # Output: Arguments: (1,)\n",
        "obj.display(1, 2, 3)  # Output: Arguments: (1, 2, 3)\n"
      ],
      "metadata": {
        "colab": {
          "base_uri": "https://localhost:8080/"
        },
        "id": "Cbzfl8MHey78",
        "outputId": "27bf898e-1131-4809-f194-b0bab8e66d29"
      },
      "execution_count": 8,
      "outputs": [
        {
          "output_type": "stream",
          "name": "stdout",
          "text": [
            "Arguments: (1,)\n",
            "Arguments: (1, 2, 3)\n"
          ]
        }
      ]
    },
    {
      "cell_type": "markdown",
      "source": [
        "In this example, the display method can handle any number of positional arguments by capturing them in a tuple args.\n",
        "\n",
        "3. **Handling Different Argument Types**\n",
        "\n",
        "You can also manually handle different argument types within a single method using conditional logic.\n",
        "\n",
        "Example:"
      ],
      "metadata": {
        "id": "xaueP_cAggHQ"
      }
    },
    {
      "cell_type": "code",
      "source": [
        "class Example:\n",
        "    def display(self, a, b=None):\n",
        "        if isinstance(a, str) and b is None:\n",
        "            print(f\"String: {a}\")\n",
        "        elif isinstance(a, int) and isinstance(b, int):\n",
        "            print(f\"Sum: {a + b}\")\n",
        "        else:\n",
        "            print(\"Invalid arguments\")\n",
        "\n",
        "# Creating an instance of Example\n",
        "obj = Example()\n",
        "\n",
        "# Calling the method with different argument types\n",
        "obj.display(\"Hello\")  # Output: String: Hello\n",
        "obj.display(5, 10)  # Output: Sum: 15\n",
        "obj.display(5, \"Hello\")  # Output: Invalid arguments\n"
      ],
      "metadata": {
        "colab": {
          "base_uri": "https://localhost:8080/"
        },
        "id": "zktM2krBgmfQ",
        "outputId": "10b80d1c-b7e6-4907-8ce8-5b0489221104"
      },
      "execution_count": 9,
      "outputs": [
        {
          "output_type": "stream",
          "name": "stdout",
          "text": [
            "String: Hello\n",
            "Sum: 15\n",
            "Invalid arguments\n"
          ]
        }
      ]
    },
    {
      "cell_type": "markdown",
      "source": [
        "# 5. **What are the three types of access modifiers in Python? How are they denoted?**"
      ],
      "metadata": {
        "id": "c46tvjkPgzyF"
      }
    },
    {
      "cell_type": "markdown",
      "source": [
        "In Python, access modifiers are used to control the visibility and accessibility of class attributes and methods. There are three types of access modifiers in Python:\n",
        "\n",
        "1. **Public**\n",
        "\n",
        "**Definition**: Public members (attributes and methods) are accessible from outside the class. By default, all members of a class are public unless specified otherwise.\n",
        "\n",
        "**Notation**: Public attributes and methods are defined with no leading underscores.\n",
        "\n",
        "Example:"
      ],
      "metadata": {
        "id": "9NKnnvmTg6XX"
      }
    },
    {
      "cell_type": "code",
      "source": [
        "class Example:\n",
        "    def __init__(self, value):\n",
        "        self.public_attr = value  # Public attribute\n",
        "\n",
        "    def public_method(self):\n",
        "        return \"This is a public method.\"\n",
        "\n",
        "# Usage\n",
        "obj = Example(10)\n",
        "print(obj.public_attr)         # Output: 10\n",
        "print(obj.public_method())     # Output: This is a public method.\n"
      ],
      "metadata": {
        "colab": {
          "base_uri": "https://localhost:8080/"
        },
        "id": "AmeVO63lh9Hu",
        "outputId": "7642a594-f11c-4008-f176-0273455081d3"
      },
      "execution_count": 10,
      "outputs": [
        {
          "output_type": "stream",
          "name": "stdout",
          "text": [
            "10\n",
            "This is a public method.\n"
          ]
        }
      ]
    },
    {
      "cell_type": "markdown",
      "source": [
        "2. **Protected**\n",
        "\n",
        "**Definition**: Protected members are intended to be accessed only within the class and its subclasses. However, this is a convention and is not enforced by the Python interpreter.\n",
        "\n",
        "\n",
        "**Notation**: Protected attributes and methods are defined with a single leading underscore.\n",
        "\n",
        "Example:"
      ],
      "metadata": {
        "id": "0HCgTMACiER6"
      }
    },
    {
      "cell_type": "code",
      "source": [
        "class Base:\n",
        "    def __init__(self, value):\n",
        "        self._protected_attr = value  # Protected attribute\n",
        "\n",
        "    def _protected_method(self):\n",
        "        return \"This is a protected method.\"\n",
        "\n",
        "class Derived(Base):\n",
        "    def access_protected(self):\n",
        "        return self._protected_attr\n",
        "\n",
        "# Usage\n",
        "obj = Derived(20)\n",
        "print(obj.access_protected())    # Output: 20\n",
        "print(obj._protected_method())   # Output: This is a protected method.\n"
      ],
      "metadata": {
        "colab": {
          "base_uri": "https://localhost:8080/"
        },
        "id": "f01UGswQiKiT",
        "outputId": "857be075-4e5a-477e-dd87-3d3ffda7f827"
      },
      "execution_count": 11,
      "outputs": [
        {
          "output_type": "stream",
          "name": "stdout",
          "text": [
            "20\n",
            "This is a protected method.\n"
          ]
        }
      ]
    },
    {
      "cell_type": "markdown",
      "source": [
        "3. **Private**\n",
        "\n",
        "**Definition**: Private members are intended to be accessible only within the class in which they are defined. This is enforced by name mangling, where the member name is internally modified to include the class name.\n",
        "\n",
        "**Notation**: Private attributes and methods are defined with a double leading underscore.\n",
        "\n",
        "Example:"
      ],
      "metadata": {
        "id": "wX4FXxx5iaN7"
      }
    },
    {
      "cell_type": "code",
      "source": [
        "class Example:\n",
        "    def __init__(self, value):\n",
        "        self.__private_attr = value  # Private attribute\n",
        "\n",
        "    def __private_method(self):\n",
        "        return \"This is a private method.\"\n",
        "\n",
        "    def get_private_attr(self):\n",
        "        return self.__private_attr\n",
        "\n",
        "# Usage\n",
        "obj = Example(30)\n",
        "print(obj.get_private_attr())    # Output: 30\n",
        "\n",
        "# Accessing private members directly will raise an AttributeError\n",
        "# print(obj.__private_attr)      # AttributeError\n",
        "# print(obj.__private_method())  # AttributeError\n",
        "\n",
        "# Private members can still be accessed through name mangling\n",
        "print(obj._Example__private_attr)  # Output: 30\n"
      ],
      "metadata": {
        "colab": {
          "base_uri": "https://localhost:8080/"
        },
        "id": "hgCRrRdzihLD",
        "outputId": "730a78ad-46f4-4cd9-b21b-db61d3c33338"
      },
      "execution_count": 12,
      "outputs": [
        {
          "output_type": "stream",
          "name": "stdout",
          "text": [
            "30\n",
            "30\n"
          ]
        }
      ]
    },
    {
      "cell_type": "markdown",
      "source": [
        "# 6. **Describe the five types of inheritance in Python. Provide a simple example of multiple inheritance**"
      ],
      "metadata": {
        "id": "8Npww9Yoivoy"
      }
    },
    {
      "cell_type": "markdown",
      "source": [
        "Inheritance is categorized based on the hierarchy followed and the number of parent classes and subclasses involved.\n",
        "\n",
        "*  Single Inheritance\n",
        "*  Multiple Inheritance\n",
        "*  Multilevel Inheritance\n",
        "*  Hierarchical Inheritance\n",
        "*  Hybrid Inheritance\n",
        "\n",
        "**Single Inheritance:**\n",
        "\n",
        "**Description**: In single inheritance, a class (child or subclass) inherits from a single parent class (base or superclass). This is the simplest form of inheritance.\n",
        "\n",
        "Example:"
      ],
      "metadata": {
        "id": "7zFSUzBli4pc"
      }
    },
    {
      "cell_type": "code",
      "source": [
        "class Animal:\n",
        "    def speak(self):\n",
        "        print(\"Animal speaks\")\n",
        "\n",
        "class Dog(Animal):\n",
        "    def bark(self):\n",
        "        print(\"Dog barks\")\n",
        "\n",
        "dog = Dog()\n",
        "dog.speak()  # Inherited method\n",
        "dog.bark()   # Method of Dog class\n"
      ],
      "metadata": {
        "colab": {
          "base_uri": "https://localhost:8080/"
        },
        "id": "BhzvOUkRmDvL",
        "outputId": "144bd104-4c31-4b8b-d5b8-57f957ab2940"
      },
      "execution_count": 13,
      "outputs": [
        {
          "output_type": "stream",
          "name": "stdout",
          "text": [
            "Animal speaks\n",
            "Dog barks\n"
          ]
        }
      ]
    },
    {
      "cell_type": "markdown",
      "source": [
        "**Multiple Inheritance:**\n",
        "\n",
        "**Description**: In multiple inheritance, a class can inherit from more than one parent class. This allows a class to combine behaviors and attributes from multiple sources.\n",
        "\n",
        "Example:"
      ],
      "metadata": {
        "id": "W77fgjlWmRNS"
      }
    },
    {
      "cell_type": "code",
      "source": [
        "class A:\n",
        "    def method_a(self):\n",
        "        print(\"Method A\")\n",
        "\n",
        "class B:\n",
        "    def method_b(self):\n",
        "        print(\"Method B\")\n",
        "\n",
        "class C(A, B):\n",
        "    def method_c(self):\n",
        "        print(\"Method C\")\n",
        "\n",
        "obj = C()\n",
        "obj.method_a()  # Inherited from A\n",
        "obj.method_b()  # Inherited from B\n",
        "obj.method_c()  # Method of C\n"
      ],
      "metadata": {
        "colab": {
          "base_uri": "https://localhost:8080/"
        },
        "id": "_m0oyVhjmQ9h",
        "outputId": "7482b730-74aa-464a-ce18-202ba8ce2670"
      },
      "execution_count": 14,
      "outputs": [
        {
          "output_type": "stream",
          "name": "stdout",
          "text": [
            "Method A\n",
            "Method B\n",
            "Method C\n"
          ]
        }
      ]
    },
    {
      "cell_type": "markdown",
      "source": [
        "**Multilevel Inheritance:**\n",
        "\n",
        "**Description**: In multilevel inheritance, a class inherits from a derived class, which in turn inherits from another class. This creates a chain of inheritance.\n",
        "\n",
        "Example:"
      ],
      "metadata": {
        "id": "i2CXfl8Qmgo4"
      }
    },
    {
      "cell_type": "code",
      "source": [
        "class Animal:\n",
        "    def speak(self):\n",
        "        print(\"Animal speaks\")\n",
        "\n",
        "class Mammal(Animal):\n",
        "    def walk(self):\n",
        "        print(\"Mammal walks\")\n",
        "\n",
        "class Dog(Mammal):\n",
        "    def bark(self):\n",
        "        print(\"Dog barks\")\n",
        "\n",
        "dog = Dog()\n",
        "dog.speak()  # Inherited from Animal\n",
        "dog.walk()   # Inherited from Mammal\n",
        "dog.bark()   # Method of Dog\n"
      ],
      "metadata": {
        "colab": {
          "base_uri": "https://localhost:8080/"
        },
        "id": "aWDLfIfFml-i",
        "outputId": "e5bd1d39-d155-4fc7-b9ca-8be60d440d4f"
      },
      "execution_count": 15,
      "outputs": [
        {
          "output_type": "stream",
          "name": "stdout",
          "text": [
            "Animal speaks\n",
            "Mammal walks\n",
            "Dog barks\n"
          ]
        }
      ]
    },
    {
      "cell_type": "markdown",
      "source": [
        "**Hierarchical Inheritance:**\n",
        "\n",
        "**Description**: In hierarchical inheritance, multiple classes inherit from a single parent class. This allows different subclasses to share common functionality from a single base class.\n",
        "\n",
        "Example"
      ],
      "metadata": {
        "id": "MuRNA5UBmtBR"
      }
    },
    {
      "cell_type": "code",
      "source": [
        "class Animal:\n",
        "    def speak(self):\n",
        "        print(\"Animal speaks\")\n",
        "\n",
        "class Dog(Animal):\n",
        "    def bark(self):\n",
        "        print(\"Dog barks\")\n",
        "\n",
        "class Cat(Animal):\n",
        "    def meow(self):\n",
        "        print(\"Cat meows\")\n",
        "\n",
        "dog = Dog()\n",
        "cat = Cat()\n",
        "dog.speak()  # Inherited from Animal\n",
        "cat.speak()  # Inherited from Animal\n",
        "dog.bark()   # Method of Dog\n",
        "cat.meow()   # Method of Cat\n"
      ],
      "metadata": {
        "colab": {
          "base_uri": "https://localhost:8080/"
        },
        "id": "XILoyyY4myQL",
        "outputId": "06ef3b63-f55e-42d5-b541-16f94820e084"
      },
      "execution_count": 16,
      "outputs": [
        {
          "output_type": "stream",
          "name": "stdout",
          "text": [
            "Animal speaks\n",
            "Animal speaks\n",
            "Dog barks\n",
            "Cat meows\n"
          ]
        }
      ]
    },
    {
      "cell_type": "markdown",
      "source": [
        "**Hybrid Inheritance:**\n",
        "\n",
        "**Description**: Hybrid inheritance is a combination of two or more types of inheritance, such as multiple and multilevel inheritance. This can create complex class hierarchies.\n",
        "\n",
        "Example:"
      ],
      "metadata": {
        "id": "xF3SBgKDm3Ik"
      }
    },
    {
      "cell_type": "code",
      "source": [
        "class A:\n",
        "    def method_a(self):\n",
        "        print(\"Method A\")\n",
        "\n",
        "class B(A):\n",
        "    def method_b(self):\n",
        "        print(\"Method B\")\n",
        "\n",
        "class C:\n",
        "    def method_c(self):\n",
        "        print(\"Method C\")\n",
        "\n",
        "class D(B, C):\n",
        "    def method_d(self):\n",
        "        print(\"Method D\")\n",
        "\n",
        "obj = D()\n",
        "obj.method_a()  # Inherited from A\n",
        "obj.method_b()  # Inherited from B\n",
        "obj.method_c()  # Inherited from C\n",
        "obj.method_d()  # Method of D\n"
      ],
      "metadata": {
        "id": "ioX6sTBbm69E"
      },
      "execution_count": null,
      "outputs": []
    },
    {
      "cell_type": "markdown",
      "source": [
        "**Example for Multiple Inheritance**"
      ],
      "metadata": {
        "id": "yV0IczpRnPqQ"
      }
    },
    {
      "cell_type": "code",
      "source": [
        "class Flyable:\n",
        "    def fly(self):\n",
        "        print(\"I can fly!\")\n",
        "\n",
        "class Swimmable:\n",
        "    def swim(self):\n",
        "        print(\"I can swim!\")\n",
        "\n",
        "class Duck(Flyable, Swimmable):\n",
        "    def quack(self):\n",
        "        print(\"Quack, quack!\")\n",
        "\n",
        "# Creating an instance of Duck\n",
        "donald = Duck()\n",
        "\n",
        "# Using methods from both parent classes\n",
        "donald.fly()   # Inherited from Flyable\n",
        "donald.swim()  # Inherited from Swimmable\n",
        "donald.quack() # Method of Duck\n"
      ],
      "metadata": {
        "id": "CGaDYnJKnQnw"
      },
      "execution_count": null,
      "outputs": []
    },
    {
      "cell_type": "markdown",
      "source": [
        "# 7. **What is the Method Resolution Order (MRO) in Python? How can you retrieve it programmatically**"
      ],
      "metadata": {
        "id": "TT6F9moYpIwg"
      }
    },
    {
      "cell_type": "markdown",
      "source": [
        "The Method Resolution Order (MRO) in Python is the order in which base classes are searched when looking for a method or attribute in a class hierarchy. This order is particularly important in multiple inheritance scenarios, where a class inherits from more than one parent class, potentially leading to ambiguity about which parent class’s method should be used.\n",
        "\n",
        "**Understanding MRO**\n",
        "\n",
        "Python uses a specific algorithm called C3 Linearization to determine the MRO. This algorithm ensures that the MRO is consistent and respects the order of inheritance. In essence, the MRO is a list of classes that Python traverses to find a method or attribute.\n",
        "\n",
        "**How MRO is Determined**\n",
        "\n",
        "Start with the current class.\n",
        "\n",
        "Include the base classes from left to right, respecting their order and hierarchy.\n",
        "\n",
        "Apply the C3 Linearization algorithm to resolve any ambiguities, ensuring that each base class is visited once and in a consistent order.\n",
        "\n",
        "**Retrieving MRO Programmatically**\n",
        "\n",
        "You can retrieve the MRO of a class programmatically using the __mro__ attribute or the mro() method. Here’s how you can do it:\n",
        "\n",
        "Using __mro__\n",
        "\n",
        "The __mro__ attribute of a class provides a tuple that contains the MRO."
      ],
      "metadata": {
        "id": "c4g7oAL-nXho"
      }
    },
    {
      "cell_type": "code",
      "source": [
        "class A:\n",
        "    pass\n",
        "\n",
        "class B(A):\n",
        "    pass\n",
        "\n",
        "class C(A):\n",
        "    pass\n",
        "\n",
        "class D(B, C):\n",
        "    pass\n",
        "\n",
        "# Retrieve MRO\n",
        "print(D.__mro__)\n"
      ],
      "metadata": {
        "colab": {
          "base_uri": "https://localhost:8080/"
        },
        "id": "775MFqVio5I9",
        "outputId": "4a760007-5922-4409-ce66-5e52503e893b"
      },
      "execution_count": 17,
      "outputs": [
        {
          "output_type": "stream",
          "name": "stdout",
          "text": [
            "(<class '__main__.D'>, <class '__main__.B'>, <class '__main__.C'>, <class '__main__.A'>, <class 'object'>)\n"
          ]
        }
      ]
    },
    {
      "cell_type": "markdown",
      "source": [
        "In this example, the MRO for class D is D -> B -> C -> A -> object.\n",
        "\n",
        "Using mro() Method\n",
        "The mro() method also returns the MRO as a list."
      ],
      "metadata": {
        "id": "xnNunNbzo9DV"
      }
    },
    {
      "cell_type": "code",
      "source": [
        "# Retrieve MRO\n",
        "print(D.mro())\n"
      ],
      "metadata": {
        "colab": {
          "base_uri": "https://localhost:8080/"
        },
        "id": "QaemiUU1o_9P",
        "outputId": "fd6af791-b190-4ab4-88d4-ec0ab92da08d"
      },
      "execution_count": 18,
      "outputs": [
        {
          "output_type": "stream",
          "name": "stdout",
          "text": [
            "[<class '__main__.D'>, <class '__main__.B'>, <class '__main__.C'>, <class '__main__.A'>, <class 'object'>]\n"
          ]
        }
      ]
    },
    {
      "cell_type": "markdown",
      "source": [
        "Both methods will give you the same result, with __mro__ providing a tuple and mro() providing a list."
      ],
      "metadata": {
        "id": "h99Nm_qSo_hX"
      }
    },
    {
      "cell_type": "markdown",
      "source": [
        "# 8. **Create an abstract base class `Shape` with an abstract method `area()`. Then create two subclasses `Circle` and `Rectangle` that implement the `area()` method.**"
      ],
      "metadata": {
        "id": "j24bFJhvpF3t"
      }
    },
    {
      "cell_type": "code",
      "source": [
        "from abc import ABC, abstractmethod\n",
        "\n",
        "class Shape(ABC):\n",
        "    @abstractmethod\n",
        "    def area(self):\n",
        "        pass\n",
        "\n",
        "class Circle(Shape):\n",
        "    def __init__(self, radius):\n",
        "        self.radius = radius\n",
        "\n",
        "    def area(self):\n",
        "        import math\n",
        "        return math.pi * self.radius ** 2\n",
        "\n",
        "class Rectangle(Shape):\n",
        "    def __init__(self, length, width):\n",
        "        self.length = length\n",
        "        self.width = width\n",
        "\n",
        "    def area(self):\n",
        "        return self.length * self.width\n"
      ],
      "metadata": {
        "id": "GbDHD2sQ34ih"
      },
      "execution_count": 25,
      "outputs": []
    },
    {
      "cell_type": "code",
      "source": [
        "if __name__ == \"__main__\":\n",
        "    # Create instances of Circle and Rectangle\n",
        "    circle = Circle(radius=5)\n",
        "    rectangle = Rectangle(length=4, width=6)\n",
        "\n",
        "    print(f\"Area of the circle: {circle.area()}\")\n",
        "    print(f\"Area of the rectangle: {rectangle.area()}\")"
      ],
      "metadata": {
        "colab": {
          "base_uri": "https://localhost:8080/"
        },
        "id": "gao3j6piqUD1",
        "outputId": "4b24658a-431a-4f37-e59f-ab8053acf864"
      },
      "execution_count": 24,
      "outputs": [
        {
          "output_type": "stream",
          "name": "stdout",
          "text": [
            "Area of the circle: 78.53981633974483\n",
            "Area of the rectangle: 24\n"
          ]
        }
      ]
    },
    {
      "cell_type": "markdown",
      "source": [
        "# 9. **Demonstrate polymorphism by creating a function that can work with different shape objects to calculate and print their areas.**"
      ],
      "metadata": {
        "id": "_yZKXgNX3dsQ"
      }
    },
    {
      "cell_type": "code",
      "source": [
        "class Shape(ABC):\n",
        "    @abstractmethod\n",
        "    def area(self):\n",
        "        pass\n",
        "\n",
        "class Circle(Shape):\n",
        "    def __init__(self, radius):\n",
        "        self.radius = radius\n",
        "\n",
        "    def area(self):\n",
        "        return math.pi * self.radius ** 2\n",
        "\n",
        "class Rectangle(Shape):\n",
        "    def __init__(self, length, width):\n",
        "        self.length = length\n",
        "        self.width = width\n",
        "\n",
        "    def area(self):\n",
        "        return self.length * self.width\n",
        "\n",
        "def print_area(shape):\n",
        "    \"\"\"\n",
        "    Demonstrates polymorphism by calculating and printing the area of any shape object.\n",
        "    \"\"\"\n",
        "    print(f\"Area: {shape.area()}\")\n",
        "\n",
        "if __name__ == \"__main__\":\n",
        "    # Create instances of Circle and Rectangle\n",
        "    circle = Circle(radius=8)\n",
        "    rectangle = Rectangle(length=5, width=8)\n",
        "\n",
        "    # Use the print_area function with different shape objects\n",
        "    print_area(circle)\n",
        "    print_area(rectangle)\n"
      ],
      "metadata": {
        "colab": {
          "base_uri": "https://localhost:8080/"
        },
        "id": "dJtqPeDb4zWO",
        "outputId": "a085a5a9-5c7e-4c61-c6ed-a2d6755f6616"
      },
      "execution_count": 28,
      "outputs": [
        {
          "output_type": "stream",
          "name": "stdout",
          "text": [
            "Area: 201.06192982974676\n",
            "Area: 40\n"
          ]
        }
      ]
    },
    {
      "cell_type": "markdown",
      "source": [
        "# **10. Implement encapsulation in a `BankAccount` class with private attributes for `balance` and `account_number`. Include methods for deposit, withdrawal, and balance inquiry.**"
      ],
      "metadata": {
        "id": "-rPRhYlm5A-h"
      }
    },
    {
      "cell_type": "code",
      "source": [
        "class BankAccount:\n",
        "    def __init__(self, account_number, initial_balance=0):\n",
        "        self.__account_number = account_number\n",
        "        self.__balance = initial_balance\n",
        "\n",
        "    def deposit(self, amount):\n",
        "        if amount > 0:\n",
        "            self.__balance += amount\n",
        "            print(f\"Deposit successful. New balance: {self.__balance}\")\n",
        "        else:\n",
        "            print(\"Invalid deposit amount.\")\n",
        "\n",
        "    def withdraw(self, amount):\n",
        "        if amount > 0 and amount <= self.__balance:\n",
        "            self.__balance -= amount\n",
        "            print(f\"Withdrawal successful. New balance: {self.__balance}\")\n",
        "        else:\n",
        "            print(\"Insufficient funds or invalid withdrawal amount.\")\n",
        "\n",
        "    def get_balance(self):\n",
        "        print(f\"Account balance: {self.__balance}\")"
      ],
      "metadata": {
        "id": "oDjCphF17fVh"
      },
      "execution_count": 46,
      "outputs": []
    },
    {
      "cell_type": "code",
      "source": [
        "if __name__ == \"__main__\":\n",
        "    # Create a BankAccount instance\n",
        "    account = BankAccount(account_number=\"1234567890\", initial_balance=1000)\n",
        "\n",
        "    # Deposit money\n",
        "    account.deposit(500)\n",
        "\n",
        "    # Withdraw money\n",
        "    account.withdraw(200)\n",
        "\n",
        "    print(f\"Account balance: {account.get_balance()}\")\n",
        "\n",
        ""
      ],
      "metadata": {
        "colab": {
          "base_uri": "https://localhost:8080/"
        },
        "id": "uI_rZhxF5fN4",
        "outputId": "5634e8ba-c403-4b24-abdc-d1cf225a1d4c"
      },
      "execution_count": 45,
      "outputs": [
        {
          "output_type": "stream",
          "name": "stdout",
          "text": [
            "Deposit successful. New balance: 1500\n",
            "Withdrawal successful. New balance: 1300\n",
            "Account balance: 1300\n",
            "Account balance: None\n"
          ]
        }
      ]
    },
    {
      "cell_type": "markdown",
      "source": [
        "# **11. Write a class that overrides the `__str__` and `__add__` magic methods. What will these methods allow you to do?**"
      ],
      "metadata": {
        "id": "nylvKDt07ict"
      }
    },
    {
      "cell_type": "code",
      "source": [
        "class MyNumber:\n",
        "    def __init__(self, value):\n",
        "        self.value = value\n",
        "\n",
        "    def __str__(self):\n",
        "        return f\"MyNumber({self.value})\"\n",
        "\n",
        "    def __add__(self, other):\n",
        "        if isinstance(other, MyNumber):\n",
        "            return MyNumber(self.value + other.value)\n",
        "        else:\n",
        "            return MyNumber(self.value + other)\n",
        "\n",
        "# Creating instances of MyNumber\n",
        "num1 = MyNumber(10)\n",
        "num2 = MyNumber(5)\n",
        "\n",
        "# Using the __str__ method for string representation\n",
        "print(num1)  # Output: MyNumber(10)\n",
        "\n",
        "# Using the __add__ method for addition\n",
        "result = num1 + num2\n",
        "print(result)  # Output: MyNumber(15)\n",
        "\n",
        "# Adding a regular number to a MyNumber object\n",
        "result2 = num1 + 20\n",
        "print(result2)  # Output: MyNumber(30)\n"
      ],
      "metadata": {
        "colab": {
          "base_uri": "https://localhost:8080/"
        },
        "id": "2d7Y9BCz8YTm",
        "outputId": "fd62e7d9-28e7-4eeb-9a63-04420d4084a7"
      },
      "execution_count": 48,
      "outputs": [
        {
          "output_type": "stream",
          "name": "stdout",
          "text": [
            "MyNumber(10)\n",
            "MyNumber(15)\n",
            "MyNumber(30)\n"
          ]
        }
      ]
    },
    {
      "cell_type": "markdown",
      "source": [
        "**What These Methods Allow**\n",
        "\n",
        "**Custom String Representation (__str__)**:\n",
        "\n",
        "Customize how objects are represented as strings, which improves readability and debugging. When you print an object or convert it to a string, the __str__ method provides the format you define.\n",
        "\n",
        "**Custom Addition Behavior (__add__):**\n",
        "\n",
        "Define how objects should be combined using the + operator. This is particularly useful for classes representing mathematical or combinable entities, such as vectors, matrices, or custom data structures."
      ],
      "metadata": {
        "id": "ZVXfFNAB8Z-1"
      }
    },
    {
      "cell_type": "markdown",
      "source": [
        "# **12. Create a decorator that measures and prints the execution time of a function.**"
      ],
      "metadata": {
        "id": "wOpnmHS28v1k"
      }
    },
    {
      "cell_type": "code",
      "source": [
        "import time\n",
        "\n",
        "def time_it(func):\n",
        "    def wrapper(*args, **kwargs):\n",
        "        start_time = time.time()\n",
        "        result = func(*args, **kwargs)\n",
        "        end_time = time.time()\n",
        "        execution_time = end_time - start_time\n",
        "        print(f\"Function {func.__name__} took {execution_time:.4f} seconds to execute.\")\n",
        "        return result\n",
        "    return wrapper\n"
      ],
      "metadata": {
        "id": "DFOCTxQt9Ti1"
      },
      "execution_count": 49,
      "outputs": []
    },
    {
      "cell_type": "code",
      "source": [
        "@time_it\n",
        "def example_function(n):\n",
        "    \"\"\"Function that performs some time-consuming operation.\"\"\"\n",
        "    total = 0\n",
        "    for i in range(n):\n",
        "        total += i ** 2\n",
        "    return total\n",
        "\n",
        "if __name__ == \"__main__\":\n",
        "    # Call the decorated function\n",
        "    result = example_function(1000000)\n",
        "    print(f\"Result: {result}\")"
      ],
      "metadata": {
        "colab": {
          "base_uri": "https://localhost:8080/"
        },
        "id": "9qVLr9o19VX0",
        "outputId": "d9f7b6b8-ff20-4738-d98c-45768217afe8"
      },
      "execution_count": 52,
      "outputs": [
        {
          "output_type": "stream",
          "name": "stdout",
          "text": [
            "Function example_function took 0.3509 seconds to execute.\n",
            "Result: 333332833333500000\n"
          ]
        }
      ]
    },
    {
      "cell_type": "markdown",
      "source": [
        "# **13. Explain the concept of the Diamond Problem in multiple inheritance. How does Python resolve it?**"
      ],
      "metadata": {
        "id": "xDqhHu5_89TM"
      }
    },
    {
      "cell_type": "markdown",
      "source": [
        "The Diamond Problem is a well-known issue in multiple inheritance that arises in object-oriented programming when a class inherits from multiple classes that have a common base class. This can lead to ambiguity about which method or attribute to use when it is inherited from multiple paths.\n",
        "\n",
        "**The Diamond Problem Explained**\n",
        "\n",
        "Consider the following class hierarchy:"
      ],
      "metadata": {
        "id": "WASkIWet-F1P"
      }
    },
    {
      "cell_type": "code",
      "source": [
        "        A\n",
        "       / \\\n",
        "      B   C\n",
        "       \\ /\n",
        "        D\n"
      ],
      "metadata": {
        "id": "ET3jY35O-QlP"
      },
      "execution_count": null,
      "outputs": []
    },
    {
      "cell_type": "markdown",
      "source": [
        "In this hierarchy:\n",
        "\n",
        "D inherits from both B and C.\n",
        "\n",
        "B and C both inherit from A.\n",
        "\n",
        "If A has a method that B and C override, and D also uses this method, it’s ambiguous which implementation of the method D should inherit.\n",
        "\n",
        "Example of the Diamond Problem"
      ],
      "metadata": {
        "id": "Q78tJRCK-SwM"
      }
    },
    {
      "cell_type": "code",
      "source": [
        "class A:\n",
        "    def greet(self):\n",
        "        print(\"Hello from A\")\n",
        "\n",
        "class B(A):\n",
        "    def greet(self):\n",
        "        print(\"Hello from B\")\n",
        "\n",
        "class C(A):\n",
        "    def greet(self):\n",
        "        print(\"Hello from C\")\n",
        "\n",
        "class D(B, C):\n",
        "    pass\n",
        "\n",
        "# Create an instance of D\n",
        "d = D()\n",
        "d.greet()  # What will this print?\n"
      ],
      "metadata": {
        "colab": {
          "base_uri": "https://localhost:8080/"
        },
        "id": "gRA1qXHL-dXM",
        "outputId": "c40d876f-0446-4b41-e14b-14b6e2446167"
      },
      "execution_count": 54,
      "outputs": [
        {
          "output_type": "stream",
          "name": "stdout",
          "text": [
            "Hello from B\n"
          ]
        }
      ]
    },
    {
      "cell_type": "markdown",
      "source": [
        "In this example, D inherits from both B and C, which both override the greet() method from A. The problem is: which greet() method should D use.\n",
        "\n",
        "**How Python Resolves the Diamond Problem**\n",
        "\n",
        "Python uses an algorithm called C3 Linearization to resolve the Diamond Problem. This algorithm ensures that the method resolution order (MRO) is consistent and predictable.\n",
        "\n",
        "\n",
        "**C3 Linearization works as follows:**\n",
        "\n",
        "* Start with the current class and include it in the MRO.\n",
        "\n",
        "* Add parent classes from left to right, respecting the order of inheritance.\n",
        "\n",
        "* Apply the linearization to the base classes, ensuring that each base class appears only once and in a consistent order.\n",
        "\n",
        "In Python, you can view the MRO of a class using the __mro__ attribute or the mro() method.\n",
        "\n",
        "Example of MRO Resolution"
      ],
      "metadata": {
        "id": "DBaiyS_J-njZ"
      }
    },
    {
      "cell_type": "code",
      "source": [
        "class A:\n",
        "    def greet(self):\n",
        "        print(\"Hello from A\")\n",
        "\n",
        "class B(A):\n",
        "    def greet(self):\n",
        "        print(\"Hello from B\")\n",
        "\n",
        "class C(A):\n",
        "    def greet(self):\n",
        "        print(\"Hello from C\")\n",
        "\n",
        "class D(B, C):\n",
        "    pass\n",
        "\n",
        "# Print the MRO of D\n",
        "print(D.__mro__)\n",
        "print(D.mro())\n",
        "\n",
        "# Create an instance of D\n",
        "d = D()\n",
        "d.greet()  # What will this print?\n"
      ],
      "metadata": {
        "colab": {
          "base_uri": "https://localhost:8080/"
        },
        "id": "GHxPZHsB_Ipe",
        "outputId": "d88ab005-ea49-4265-9d8d-8f72f81d6458"
      },
      "execution_count": 55,
      "outputs": [
        {
          "output_type": "stream",
          "name": "stdout",
          "text": [
            "(<class '__main__.D'>, <class '__main__.B'>, <class '__main__.C'>, <class '__main__.A'>, <class 'object'>)\n",
            "[<class '__main__.D'>, <class '__main__.B'>, <class '__main__.C'>, <class '__main__.A'>, <class 'object'>]\n",
            "Hello from B\n"
          ]
        }
      ]
    },
    {
      "cell_type": "markdown",
      "source": [
        "In this output:\n",
        "\n",
        "The MRO of class D is D -> B -> C -> A -> object.\n",
        "\n",
        "When d.greet() is called, Python looks for greet() in the order specified by the MRO. Thus, it will use B's implementation of greet() because B appears before C in the MRO."
      ],
      "metadata": {
        "id": "OaUCQTS8_ODJ"
      }
    },
    {
      "cell_type": "markdown",
      "source": [
        "# **14. Write a class method that keeps track of the number of instances created from a class.**"
      ],
      "metadata": {
        "id": "BTW2kyGj_WdK"
      }
    },
    {
      "cell_type": "code",
      "source": [
        "class MyClass:\n",
        "    count = 0  # Class variable to track instance count\n",
        "\n",
        "    def __init__(self):\n",
        "        MyClass.count += 1\n",
        "\n",
        "    @classmethod\n",
        "    def get_instance_count(cls):\n",
        "        return cls.count\n",
        "\n",
        "if __name__ == \"__main__\":\n",
        "    # Create instances of InstanceTracker\n",
        "    obj1 =  MyClass()\n",
        "    obj2 =  MyClass()\n",
        "    obj3 =  MyClass()\n",
        "\n",
        "    # Print the number of instances created\n",
        "    print(f\"Number of instances created: {MyClass.get_instance_count()}\")  # Output: 3"
      ],
      "metadata": {
        "colab": {
          "base_uri": "https://localhost:8080/"
        },
        "id": "lh7464qUBdTD",
        "outputId": "4ed452b8-ccd0-46f7-f673-5c3f4e46b9ef"
      },
      "execution_count": 61,
      "outputs": [
        {
          "output_type": "stream",
          "name": "stdout",
          "text": [
            "Number of instances created: 3\n"
          ]
        }
      ]
    },
    {
      "cell_type": "markdown",
      "source": [
        "# **15. Implement a static method in a class that checks if a given year is a leap year.**"
      ],
      "metadata": {
        "id": "Sv8ru4LjBtpO"
      }
    },
    {
      "cell_type": "code",
      "source": [
        "class YearChecker:\n",
        "    @staticmethod\n",
        "    def is_leap_year(year):\n",
        "        \"\"\"\n",
        "        Checks if a given year is a leap year.\n",
        "        \"\"\"\n",
        "        if (year % 4 == 0 and year % 100 != 0) or (year % 400 == 0):\n",
        "            return True\n",
        "        else:\n",
        "            return False\n"
      ],
      "metadata": {
        "id": "1NOluu6cCDM7"
      },
      "execution_count": 68,
      "outputs": []
    },
    {
      "cell_type": "code",
      "source": [
        "if __name__ == \"__main__\":\n",
        "    year = 2028\n",
        "    if YearChecker.is_leap_year(year):\n",
        "        print(f\"{year} is a leap year.\")\n",
        "    else:\n",
        "        print(f\"{year} is not a leap year.\")\n"
      ],
      "metadata": {
        "colab": {
          "base_uri": "https://localhost:8080/"
        },
        "id": "bQIrFp-cB4nz",
        "outputId": "aba1e69c-6e2f-4cb2-bfe7-9027ec804ab6"
      },
      "execution_count": 71,
      "outputs": [
        {
          "output_type": "stream",
          "name": "stdout",
          "text": [
            "2028 is a leap year.\n"
          ]
        }
      ]
    }
  ]
}