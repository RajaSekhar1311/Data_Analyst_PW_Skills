{
  "nbformat": 4,
  "nbformat_minor": 0,
  "metadata": {
    "colab": {
      "provenance": [],
      "authorship_tag": "ABX9TyNBYiqum6aETP7M2t34Yu/c",
      "include_colab_link": true
    },
    "kernelspec": {
      "name": "python3",
      "display_name": "Python 3"
    },
    "language_info": {
      "name": "python"
    }
  },
  "cells": [
    {
      "cell_type": "markdown",
      "metadata": {
        "id": "view-in-github",
        "colab_type": "text"
      },
      "source": [
        "<a href=\"https://colab.research.google.com/github/RajaSekhar1311/Data_Analyst_PW_Skills/blob/main/Files_%26_Exceptional_Handling_Practical.ipynb\" target=\"_parent\"><img src=\"https://colab.research.google.com/assets/colab-badge.svg\" alt=\"Open In Colab\"/></a>"
      ]
    },
    {
      "cell_type": "markdown",
      "source": [
        "# **4. Write a Python program using multithreading where one thread adds numbers to a list, and another thread removes numbers from the list. Implement a mechanism to avoid race conditions using threading.Lock.**\n",
        "\n",
        "\n"
      ],
      "metadata": {
        "id": "y25t9FdiOC7F"
      }
    },
    {
      "cell_type": "code",
      "execution_count": 1,
      "metadata": {
        "colab": {
          "base_uri": "https://localhost:8080/"
        },
        "id": "vVrn2-0LLOs2",
        "outputId": "eee88803-9967-4f92-fb0f-699bf81436ef"
      },
      "outputs": [
        {
          "output_type": "stream",
          "name": "stdout",
          "text": [
            "List is empty, nothing to remove.\n",
            "Added: 10, Current List: [10]\n",
            "Removed: 10, Current List: []\n",
            "Added: 68, Current List: [68]\n",
            "Removed: 68, Current List: []\n",
            "Added: 89, Current List: [89]\n",
            "Removed: 89, Current List: []\n",
            "Added: 50, Current List: [50]\n",
            "Added: 15, Current List: [50, 15]\n",
            "Removed: 50, Current List: [15]\n",
            "Added: 60, Current List: [15, 60]\n",
            "Removed: 15, Current List: [60]\n",
            "Added: 1, Current List: [60, 1]\n",
            "Added: 99, Current List: [60, 1, 99]\n",
            "Removed: 60, Current List: [1, 99]\n",
            "Added: 77, Current List: [1, 99, 77]\n",
            "Removed: 1, Current List: [99, 77]\n",
            "Added: 65, Current List: [99, 77, 65]\n",
            "Removed: 99, Current List: [77, 65]\n",
            "Removed: 77, Current List: [65]\n",
            "Final List: [65]\n"
          ]
        }
      ],
      "source": [
        "import threading\n",
        "import time\n",
        "import random\n",
        "\n",
        "# Shared resource\n",
        "number_list = []\n",
        "lock = threading.Lock()\n",
        "\n",
        "# Function to add numbers to the list\n",
        "def add_numbers():\n",
        "    for i in range(10):\n",
        "        time.sleep(random.uniform(0.1, 0.5))  # Simulate variable delay\n",
        "        number = random.randint(1, 100)\n",
        "        with lock:\n",
        "            number_list.append(number)\n",
        "            print(f\"Added: {number}, Current List: {number_list}\")\n",
        "\n",
        "# Function to remove numbers from the list\n",
        "def remove_numbers():\n",
        "    for _ in range(10):\n",
        "        time.sleep(random.uniform(0.1, 0.5))  # Simulate variable delay\n",
        "        with lock:\n",
        "            if number_list:  # Check if the list is not empty\n",
        "                removed_number = number_list.pop(0)\n",
        "                print(f\"Removed: {removed_number}, Current List: {number_list}\")\n",
        "            else:\n",
        "                print(\"List is empty, nothing to remove.\")\n",
        "\n",
        "# Create threads\n",
        "add_thread = threading.Thread(target=add_numbers)\n",
        "remove_thread = threading.Thread(target=remove_numbers)\n",
        "\n",
        "# Start threads\n",
        "add_thread.start()\n",
        "remove_thread.start()\n",
        "\n",
        "# Wait for both threads to complete\n",
        "add_thread.join()\n",
        "remove_thread.join()\n",
        "\n",
        "print(\"Final List:\", number_list)"
      ]
    },
    {
      "cell_type": "markdown",
      "source": [
        "# **7. Create a program that uses a thread pool to calculate the factorial of numbers from 1 to 10 concurrently. Use concurrent.futures.ThreadPoolExecutor to manage the threads.**"
      ],
      "metadata": {
        "id": "0E6SGlgsOYzY"
      }
    },
    {
      "cell_type": "code",
      "source": [
        "import concurrent.futures\n",
        "import math\n",
        "\n",
        "# Function to calculate the factorial of a number\n",
        "def calculate_factorial(n):\n",
        "    return math.factorial(n)\n",
        "\n",
        "# Main function to execute the thread pool\n",
        "def main():\n",
        "    numbers = range(1, 11)  # Numbers from 1 to 10\n",
        "\n",
        "    # Using ThreadPoolExecutor to manage threads\n",
        "    with concurrent.futures.ThreadPoolExecutor() as executor:\n",
        "        # Map the calculate_factorial function to the numbers\n",
        "        results = list(executor.map(calculate_factorial, numbers))\n",
        "\n",
        "    # Print the results\n",
        "    for number, factorial in zip(numbers, results):\n",
        "        print(f\"The factorial of {number} is {factorial}\")\n",
        "\n",
        "if __name__ == \"__main__\":\n",
        "    main()\n"
      ],
      "metadata": {
        "colab": {
          "base_uri": "https://localhost:8080/"
        },
        "id": "zIZIWtPcORFv",
        "outputId": "a2e5c45d-b348-4ffd-cea6-5a3de830c36f"
      },
      "execution_count": 2,
      "outputs": [
        {
          "output_type": "stream",
          "name": "stdout",
          "text": [
            "The factorial of 1 is 1\n",
            "The factorial of 2 is 2\n",
            "The factorial of 3 is 6\n",
            "The factorial of 4 is 24\n",
            "The factorial of 5 is 120\n",
            "The factorial of 6 is 720\n",
            "The factorial of 7 is 5040\n",
            "The factorial of 8 is 40320\n",
            "The factorial of 9 is 362880\n",
            "The factorial of 10 is 3628800\n"
          ]
        }
      ]
    },
    {
      "cell_type": "markdown",
      "source": [
        "# **8. Create a Python program that uses multiprocessing.Pool to compute the square of numbers from 1 to 10 in parallel. Measure the time taken to perform this computation using a pool of different sizes (e.g., 2, 4, 8 processes).**"
      ],
      "metadata": {
        "id": "BTU-2--zOsiF"
      }
    },
    {
      "cell_type": "code",
      "source": [
        "import multiprocessing\n",
        "import time\n",
        "\n",
        "# Function to compute the square of a number\n",
        "def compute_square(n):\n",
        "    return n * n\n",
        "\n",
        "# Main function to execute the multiprocessing\n",
        "def main(pool_size):\n",
        "    numbers = range(1, 11)  # Numbers from 1 to 10\n",
        "\n",
        "    # Create a pool of workers\n",
        "    with multiprocessing.Pool(processes=pool_size) as pool:\n",
        "        start_time = time.time()  # Start timer\n",
        "\n",
        "        # Map the compute_square function to the numbers\n",
        "        results = pool.map(compute_square, numbers)\n",
        "\n",
        "        end_time = time.time()  # End timer\n",
        "\n",
        "    # Print the results\n",
        "    print(f\"Pool Size: {pool_size} | Results: {results} | Time Taken: {end_time - start_time:.4f} seconds\")\n",
        "\n",
        "if __name__ == \"__main__\":\n",
        "    # Testing different pool sizes\n",
        "    for size in [2, 4, 8]:\n",
        "        main(size)"
      ],
      "metadata": {
        "colab": {
          "base_uri": "https://localhost:8080/"
        },
        "id": "QtUggt5VOsCl",
        "outputId": "3212cc91-0c48-4a71-e3a2-525d89b4aa59"
      },
      "execution_count": 3,
      "outputs": [
        {
          "output_type": "stream",
          "name": "stdout",
          "text": [
            "Pool Size: 2 | Results: [1, 4, 9, 16, 25, 36, 49, 64, 81, 100] | Time Taken: 0.0016 seconds\n",
            "Pool Size: 4 | Results: [1, 4, 9, 16, 25, 36, 49, 64, 81, 100] | Time Taken: 0.0026 seconds\n",
            "Pool Size: 8 | Results: [1, 4, 9, 16, 25, 36, 49, 64, 81, 100] | Time Taken: 0.0026 seconds\n"
          ]
        }
      ]
    },
    {
      "cell_type": "markdown",
      "source": [],
      "metadata": {
        "id": "jXqxrWeIOr4V"
      }
    }
  ]
}